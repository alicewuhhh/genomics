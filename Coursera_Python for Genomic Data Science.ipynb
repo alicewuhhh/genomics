{
 "cells": [
  {
   "cell_type": "code",
   "execution_count": 354,
   "id": "a1061c16",
   "metadata": {},
   "outputs": [],
   "source": [
    "from Bio.Blast import NCBIWWW, NCBIXML\n",
    "from collections import Counter\n",
    "\n",
    "import sys\n",
    "import getopt\n",
    "from Bio import SeqIO\n",
    "import numpy as np"
   ]
  },
  {
   "cell_type": "code",
   "execution_count": 63,
   "id": "609af84f",
   "metadata": {
    "scrolled": true
   },
   "outputs": [],
   "source": [
    "## READING the file\n",
    "try:\n",
    "    f=open('/Users/aliceqichaowu/Downloads/dna.example.fasta')\n",
    "except IOError:\n",
    "    print('File dna.example.fasta does not exist!!')\n",
    "seqs={}\n",
    "for line in f:\n",
    "    line=line.rstrip()\n",
    "    ## A new dna seq will start with >, we will split the first word and assign it as the name with seq followed\n",
    "    if line[0]==\">\":\n",
    "        words=line.split()\n",
    "        name=words[0][1:]\n",
    "        seqs[name]=''\n",
    "    else:\n",
    "        seqs[name]=seqs[name]+line\n",
    "f.close()     \n"
   ]
  },
  {
   "cell_type": "code",
   "execution_count": null,
   "id": "719224f5",
   "metadata": {},
   "outputs": [],
   "source": [
    "## Visualize the alignments\n",
    "\n",
    "## See how good the alignment is based on an unknown sequence\n",
    "unknown_sequence = \"\"\"TGGGCCTCATATTTATCCTATATACCATGTTCGTATGGTGGCGCGATGTTCTACGTGAATCCACGTTCGAAGGACATCATACCAAAGTCGTAC\n",
    "AATTAGGACCTCGATATGGTTTTATTCTGTTTATCGTATCGGAGGTTATGTTCTTTTTTGCTCTTTTTCGGGCTTCTTCTCATTCTTCTTTGGCAC\n",
    "CTACGGTAGAG\"\"\"\n",
    "\n",
    "result_handle = NCBIWWW.qblast(\"blastn\", \"nt\", unknown_sequence)\n",
    "\n",
    "# Parse the BLAST result\n",
    "blast_record = NCBIXML.read(result_handle)\n",
    "\n",
    "E_value_thresh=0.01\n",
    "for alignment in blast_record1.alignments:\n",
    "    for hsp in alignment.hsps:\n",
    "        if hsp.expect < E_value_thresh:\n",
    "            print('***Alignment***')\n",
    "            print('seq:',alignment.title)\n",
    "            print('len:',alignment.length)\n",
    "            print('e val:',hsp.expect)\n",
    "            print(hsp.query)\n",
    "            print(hsp.match)\n",
    "            print(hsp.sbjct)"
   ]
  },
  {
   "cell_type": "code",
   "execution_count": 25,
   "id": "f05b735c",
   "metadata": {
    "scrolled": true
   },
   "outputs": [
    {
     "name": "stdout",
     "output_type": "stream",
     "text": [
      "WASYLSYIPCSYGGAMFYVNPRSKDIIPKSYN*DLDMVLFCLSYRRLCSFLLFFGLLLILLWHLR*\n"
     ]
    }
   ],
   "source": [
    "## Translate DNA or RNA sequences\n",
    "from Bio.Seq import Seq\n",
    "my_seq = Seq(\"TGGGCCTCATATTTATCCTATATACCATGTTCGTATGGTGGCGCGATGTTCTACGTGAATCCACGTTCGAAGGACATCATACCAAAGTCGTACAATTAGGACCTCGATATGGTTTTATTCTGTTTATCGTATCGGAGGTTATGTTCTTTTTTGCTCTTTTTCGGGCTTCTTCTCATTCTTCTTTGGCACCTACGGTAGAG\")\n",
    "print( my_seq.translate())"
   ]
  },
  {
   "cell_type": "markdown",
   "id": "ac8ea0b4",
   "metadata": {},
   "source": [
    "## Final Exam\n"
   ]
  },
  {
   "cell_type": "code",
   "execution_count": 342,
   "id": "7f197953",
   "metadata": {},
   "outputs": [],
   "source": [
    "## READING the file\n",
    "try:\n",
    "    f=open('/Users/aliceqichaowu/Downloads/dna2.fasta')\n",
    "except IOError:\n",
    "    print('File dna.example.fasta does not exist!!')\n",
    "seqs={}\n",
    "for line in f:\n",
    "    line=line.rstrip()\n",
    "    if line[0]==\">\":\n",
    "        words=line.split()\n",
    "        name=words[0][1:]\n",
    "        seqs[name]=''\n",
    "    else:\n",
    "        seqs[name]=seqs[name]+line\n",
    "f.close()     "
   ]
  },
  {
   "cell_type": "markdown",
   "id": "c3514537",
   "metadata": {},
   "source": [
    "### Q1, Q2, Q3\n",
    "- Q1: How many records are in the file?\n",
    "- Q2&3: What are the lengths of the sequences in the file? What is the longest sequence and what is the shortest sequence?"
   ]
  },
  {
   "cell_type": "code",
   "execution_count": 343,
   "id": "a5fff773",
   "metadata": {},
   "outputs": [
    {
     "name": "stdout",
     "output_type": "stream",
     "text": [
      "number of records: 18 \n",
      "longest sequence: 4894 \n",
      "shortest sequence: 115\n"
     ]
    }
   ],
   "source": [
    "sequences=list(seqs.values())\n",
    "dna_length=[len(i) for i in sequences]\n",
    "print(\"number of records:\", len(sequences),'\\nlongest sequence:',max(dna_length),'\\nshortest sequence:',min(dna_length))"
   ]
  },
  {
   "cell_type": "markdown",
   "id": "555583b4",
   "metadata": {},
   "source": [
    "### Q4: what is the length of the longest ORF in reading frame 2 of any sequence?"
   ]
  },
  {
   "cell_type": "code",
   "execution_count": 108,
   "id": "ccb200d0",
   "metadata": {},
   "outputs": [
    {
     "name": "stdout",
     "output_type": "stream",
     "text": [
      "['ATGTTATATTAG'] [23, 41]\n",
      "The longest ORF in reading frame 2:  1458\n"
     ]
    }
   ],
   "source": [
    "start_codon='ATG'\n",
    "stop_codons=['TAA', 'TAG' , 'TGA']\n",
    "\n",
    "def get_seq(seqs,start_pos):\n",
    "    orfs=[]\n",
    "    start_indexs = []\n",
    "    \n",
    "    for i in range(start_pos, len(seqs), 3):\n",
    "        if seqs[i:i+3] == start_codon:\n",
    "            start_indexs.append(i)\n",
    "            \n",
    "    for i in range(start_pos,len(seqs)):\n",
    "        codon = seqs[i:i+3]\n",
    "        if i in start_indexs:\n",
    "            orf = codon\n",
    "            j = i + 3\n",
    "            while j < len(seqs):\n",
    "                codon = seqs[j:j+3]\n",
    "                orf += codon\n",
    "                if codon in stop_codons:\n",
    "                    orfs.append(orf)\n",
    "                    break\n",
    "                j += 3\n",
    "                \n",
    "    return orfs,start_indexs\n",
    "\n",
    "## test example\n",
    "sequence='AATGAGGTGACACATGGCATAACATGTTATATTAGCATGAAATGCAAT'\n",
    "orfs,start_indexs = get_seq(sequence,2)\n",
    "print(orfs,start_indexs)\n",
    "\n",
    "lengths = []\n",
    "start_pos = 1\n",
    "for i in sequences:\n",
    "    orfs,start_indexs = get_seq(i,start_pos)\n",
    "    for j in orfs:\n",
    "        lengths.append(len(j))\n",
    "print('The longest ORF in reading frame 2: ',max(lengths))\n"
   ]
  },
  {
   "cell_type": "markdown",
   "id": "f69a2d8d",
   "metadata": {},
   "source": [
    "### Q5: What is the starting position of the longest ORF in reading frame 3 in any of the sequences?\n"
   ]
  },
  {
   "cell_type": "code",
   "execution_count": 259,
   "id": "7648d7d6",
   "metadata": {},
   "outputs": [
    {
     "name": "stdout",
     "output_type": "stream",
     "text": [
      "The longest ORF: 588  Starting position is:  2856\n",
      "The longest ORF: 711  Starting position is:  2334\n",
      "The longest ORF: 1401  Starting position is:  3096\n",
      "The longest ORF: 1644  Starting position is:  1440\n",
      "The longest ORF: 1821  Starting position is:  636\n",
      "The starting position of the longest ORF in reading frame 3 is 635\n"
     ]
    }
   ],
   "source": [
    "start_codon='ATG'\n",
    "stop_codons=['TAA', 'TAG' , 'TGA']\n",
    "\n",
    "    \n",
    "def get_start_position(seqs,start_pos):\n",
    "    orfs=[]\n",
    "    start_indexs = []\n",
    "    starts_all={}\n",
    "    \n",
    "    for i in range(start_pos, len(seqs), 3):\n",
    "        if seqs[i:i+3] == start_codon:\n",
    "            start_indexs.append(i)\n",
    "            \n",
    "    for i in range(start_pos,len(seqs)):\n",
    "        codon = seqs[i:i+3]\n",
    "        if i in start_indexs:\n",
    "            orf = codon\n",
    "            j = i + 3\n",
    "            while j < len(seqs):\n",
    "                codon = seqs[j:j+3]\n",
    "                orf += codon\n",
    "                if codon in stop_codons:\n",
    "                    orfs.append(orf)\n",
    "                    starts_all[i] = len(orf)\n",
    "                    break\n",
    "                j += 3                \n",
    "    return orfs,starts_all       \n",
    "\n",
    "lengths = []\n",
    "start_pos = 2\n",
    "max_value = float('-inf')\n",
    "\n",
    "for i in sequences:\n",
    "    orfs,starts_all = get_start_position(i,start_pos)\n",
    "    if starts_all!= {}:\n",
    "        current_max = max(starts_all.values())\n",
    "        if current_max > max_value:\n",
    "            max_value = current_max\n",
    "            desired_key = next(key for key, value in starts_all.items() if value == max_value)\n",
    "            print(\"The longest ORF:\", max_value,' Starting position is: ', desired_key+1 )\n",
    "\n",
    "print('The starting position of the longest ORF in reading frame 3 is 635')\n"
   ]
  },
  {
   "cell_type": "markdown",
   "id": "b42be013",
   "metadata": {},
   "source": [
    "### Q6: What is the length of the longest ORF that appeared in any reading frame?\""
   ]
  },
  {
   "cell_type": "code",
   "execution_count": 339,
   "id": "62f76502",
   "metadata": {},
   "outputs": [
    {
     "name": "stdout",
     "output_type": "stream",
     "text": [
      "The longest ORF is:  2394\n"
     ]
    }
   ],
   "source": [
    "start_positions = [0,1,2]\n",
    "lengths=[]\n",
    "\n",
    "for r in start_positions:\n",
    "    start_pos=start_positions[r]\n",
    "    for i in sequences:\n",
    "        orfs,start_indexs = get_seq(i,start_pos)\n",
    "        for j in orfs:\n",
    "            lengths.append(len(j))\n",
    "\n",
    "print('The longest ORF is: ',max(lengths))"
   ]
  },
  {
   "cell_type": "markdown",
   "id": "0b23653f",
   "metadata": {},
   "source": [
    "### Q7: What is the length of the longest ORF that appears in the sequence with the identifier gi|142022655|gb|EQ086233.1|160?\n"
   ]
  },
  {
   "cell_type": "code",
   "execution_count": 340,
   "id": "ee3fa9fc",
   "metadata": {},
   "outputs": [
    {
     "name": "stdout",
     "output_type": "stream",
     "text": [
      "The longest ORF with the identifier is:  1644\n"
     ]
    }
   ],
   "source": [
    "seqs_identif=seqs['gi|142022655|gb|EQ086233.1|16']\n",
    "\n",
    "lengths=[]\n",
    "start_positions = [0,1,2]\n",
    "\n",
    "for r in start_positions:\n",
    "    start_pos=start_positions[r]\n",
    "    orfs,start_indexs = get_seq(seqs_identif,start_pos)\n",
    "    for j in orfs:\n",
    "        lengths.append(len(j))\n",
    "\n",
    "print('The longest ORF with the identifier is: ',max(lengths))"
   ]
  },
  {
   "cell_type": "markdown",
   "id": "7a7238c6",
   "metadata": {},
   "source": [
    "### Q8: Find the most frequently occurring repeat of length 6 in all sequences. How many times does it occur in all?"
   ]
  },
  {
   "cell_type": "code",
   "execution_count": 437,
   "id": "4175ee47",
   "metadata": {},
   "outputs": [
    {
     "name": "stdout",
     "output_type": "stream",
     "text": [
      "The most frequent repeats of length 6 is: GCGCGC 153\n"
     ]
    }
   ],
   "source": [
    "def get_six_repeats(seqs):\n",
    "    seq_repeats=[]\n",
    "    for i in range(len(seqs)):\n",
    "        if len(seqs[i:i+6]) == 6:\n",
    "            seq_repeats.append(seqs[i:i+6])         \n",
    "    return seq_repeats\n",
    "\n",
    "all_repeats=[]\n",
    "for i in sequences:\n",
    "    repeats_list = get_six_repeats(i)\n",
    "    all_repeats += repeats_list\n",
    "\n",
    "counts_dict=Counter(all_repeats)\n",
    "max_num=max(counts_dict.values())\n",
    "max_seq=next(key for key, value in counts_dict.items() if value == max_num)\n",
    "print('The most frequent repeats of length 6 is:',max_seq,max_num)"
   ]
  },
  {
   "cell_type": "markdown",
   "id": "c2d5d820",
   "metadata": {},
   "source": [
    "### Q9: Find all repeats of length 12 in the input file. Let's use Max to specify the number of copies of the most frequent repeat of length 12. How many different 12-base sequences occur Max times?\n"
   ]
  },
  {
   "cell_type": "code",
   "execution_count": 459,
   "id": "d8635ebe",
   "metadata": {},
   "outputs": [
    {
     "data": {
      "text/plain": [
       "[10, 10, 10, 10, 9, 9, 9, 3, 3, 3]"
      ]
     },
     "execution_count": 459,
     "metadata": {},
     "output_type": "execute_result"
    }
   ],
   "source": [
    "def get_twelve_repeats(seqs):\n",
    "    seq_repeats=[]\n",
    "    for i in range(len(seqs)):\n",
    "        if len(seqs[i:i+12]) == 12:\n",
    "            seq_repeats.append(seqs[i:i+12])         \n",
    "    return seq_repeats\n",
    "\n",
    "all_repeats=[]\n",
    "for i in sequences:\n",
    "    repeats_list = get_twelve_repeats(i)\n",
    "    all_repeats += repeats_list\n",
    "counts_dict=Counter(all_repeats)\n",
    "sorted(counts_dict.values(),reverse=True)[0:10]\n",
    "# max_num=max(counts_dict.values())\n",
    "# max_seq=next(key for key, value in counts_dict.items() if value == max_num)\n",
    "# print('The most frequent repeats of length 12 is:',max_seq,max_num)"
   ]
  },
  {
   "cell_type": "markdown",
   "id": "519ea001",
   "metadata": {},
   "source": [
    "### Q10: Find the most frequently occurring repeat of length 7 in all sequences. "
   ]
  },
  {
   "cell_type": "code",
   "execution_count": 445,
   "id": "2357b127",
   "metadata": {},
   "outputs": [
    {
     "name": "stdout",
     "output_type": "stream",
     "text": [
      "The most frequent repeats of length 7 is: CGCGCCG 63\n"
     ]
    }
   ],
   "source": [
    "def get_seven_repeats(seqs):\n",
    "    seq_repeats=[]\n",
    "    for i in range(len(seqs)):\n",
    "        if len(seqs[i:i+7]) == 7:\n",
    "            seq_repeats.append(seqs[i:i+7])         \n",
    "    return seq_repeats\n",
    "\n",
    "all_repeats=[]\n",
    "for i in sequences:\n",
    "    repeats_list = get_seven_repeats(i)\n",
    "    all_repeats += repeats_list\n",
    "\n",
    "counts_dict=Counter(all_repeats)\n",
    "max_num=max(counts_dict.values())\n",
    "max_seq=next(key for key, value in counts_dict.items() if value == max_num)\n",
    "print('The most frequent repeats of length 7 is:',max_seq,max_num)"
   ]
  },
  {
   "cell_type": "code",
   "execution_count": null,
   "id": "98c0fe45",
   "metadata": {},
   "outputs": [],
   "source": []
  },
  {
   "cell_type": "code",
   "execution_count": 457,
   "id": "f0e332f2",
   "metadata": {},
   "outputs": [],
   "source": [
    "\n",
    "\n",
    "# orfs=['abcdes','abcde','aaaccccccc','cd']\n",
    "# max([len(string) for string in orfs])\n",
    "# if len(orfs) == 0:\n",
    "#     print(\"The list is empty.\")\n",
    "# else:\n",
    "#     max_index = max(len(orfs), key=lambda i: len(orfs[i]))\n",
    "#     print(max_index)\n",
    "# index_min = np.argmin([len(string) for string in orfs])\n",
    "# index_min"
   ]
  },
  {
   "cell_type": "code",
   "execution_count": null,
   "id": "491852c9",
   "metadata": {},
   "outputs": [],
   "source": []
  }
 ],
 "metadata": {
  "kernelspec": {
   "display_name": "Python 3",
   "language": "python",
   "name": "python3"
  },
  "language_info": {
   "codemirror_mode": {
    "name": "ipython",
    "version": 3
   },
   "file_extension": ".py",
   "mimetype": "text/x-python",
   "name": "python",
   "nbconvert_exporter": "python",
   "pygments_lexer": "ipython3",
   "version": "3.8.8"
  }
 },
 "nbformat": 4,
 "nbformat_minor": 5
}
